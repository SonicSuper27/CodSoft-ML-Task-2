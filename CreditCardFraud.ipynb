{
 "cells": [
  {
   "cell_type": "markdown",
   "id": "7ff0b765-6a28-4d68-a163-2e62a88cb929",
   "metadata": {},
   "source": [
    "IMPORTING LIBRARIES"
   ]
  },
  {
   "cell_type": "code",
   "execution_count": 3,
   "id": "3ff272fd-0a32-407f-aa78-4f9a489aae99",
   "metadata": {},
   "outputs": [],
   "source": [
    "import pandas as pd\n",
    "import numpy as np\n",
    "import matplotlib.pyplot as plt\n",
    "import seaborn as sns\n",
    "from sklearn.model_selection import train_test_split\n",
    "from sklearn.preprocessing import LabelEncoder, StandardScaler\n",
    "from sklearn.ensemble import RandomForestClassifier\n",
    "from sklearn.metrics import accuracy_score, confusion_matrix, f1_score, recall_score, precision_score"
   ]
  },
  {
   "cell_type": "markdown",
   "id": "c238b5d2-393c-4b93-8419-79b195f5a078",
   "metadata": {},
   "source": [
    "READING DATA"
   ]
  },
  {
   "cell_type": "code",
   "execution_count": 5,
   "id": "5daf7b1f-6a0c-416e-8ae3-90acc763a904",
   "metadata": {},
   "outputs": [],
   "source": [
    "train_data = pd.read_csv(r'C:\\Users\\Dell\\Desktop\\CodSoft\\Task 2\\fraudtrain.csv')"
   ]
  },
  {
   "cell_type": "code",
   "execution_count": 7,
   "id": "210f8ce1-f33b-4bf0-b34c-cb6d40d9e246",
   "metadata": {},
   "outputs": [
    {
     "name": "stdout",
     "output_type": "stream",
     "text": [
      "<class 'pandas.core.frame.DataFrame'>\n",
      "RangeIndex: 1296675 entries, 0 to 1296674\n",
      "Data columns (total 23 columns):\n",
      " #   Column                 Non-Null Count    Dtype  \n",
      "---  ------                 --------------    -----  \n",
      " 0   Unnamed: 0             1296675 non-null  int64  \n",
      " 1   trans_date_trans_time  1296675 non-null  object \n",
      " 2   cc_num                 1296675 non-null  int64  \n",
      " 3   merchant               1296675 non-null  object \n",
      " 4   category               1296675 non-null  object \n",
      " 5   amt                    1296675 non-null  float64\n",
      " 6   first                  1296675 non-null  object \n",
      " 7   last                   1296675 non-null  object \n",
      " 8   gender                 1296675 non-null  object \n",
      " 9   street                 1296675 non-null  object \n",
      " 10  city                   1296675 non-null  object \n",
      " 11  state                  1296675 non-null  object \n",
      " 12  zip                    1296675 non-null  int64  \n",
      " 13  lat                    1296675 non-null  float64\n",
      " 14  long                   1296675 non-null  float64\n",
      " 15  city_pop               1296675 non-null  int64  \n",
      " 16  job                    1296675 non-null  object \n",
      " 17  dob                    1296675 non-null  object \n",
      " 18  trans_num              1296675 non-null  object \n",
      " 19  unix_time              1296675 non-null  int64  \n",
      " 20  merch_lat              1296675 non-null  float64\n",
      " 21  merch_long             1296675 non-null  float64\n",
      " 22  is_fraud               1296675 non-null  int64  \n",
      "dtypes: float64(5), int64(6), object(12)\n",
      "memory usage: 227.5+ MB\n"
     ]
    }
   ],
   "source": [
    "train_data.info()"
   ]
  },
  {
   "cell_type": "code",
   "execution_count": 9,
   "id": "db12e09c-4dbc-446f-a0d9-6afb62c7b57c",
   "metadata": {},
   "outputs": [
    {
     "data": {
      "text/plain": [
       "Index(['Unnamed: 0', 'trans_date_trans_time', 'cc_num', 'merchant', 'category',\n",
       "       'amt', 'first', 'last', 'gender', 'street', 'city', 'state', 'zip',\n",
       "       'lat', 'long', 'city_pop', 'job', 'dob', 'trans_num', 'unix_time',\n",
       "       'merch_lat', 'merch_long', 'is_fraud'],\n",
       "      dtype='object')"
      ]
     },
     "execution_count": 9,
     "metadata": {},
     "output_type": "execute_result"
    }
   ],
   "source": [
    "train_data.columns"
   ]
  },
  {
   "cell_type": "markdown",
   "id": "aad95e2f-6c6a-411b-8c3c-f4478fea3f61",
   "metadata": {},
   "source": [
    "PREPROCESSING"
   ]
  },
  {
   "cell_type": "code",
   "execution_count": 11,
   "id": "fa5334f3-c8cd-4ad6-9af5-6e3a44863032",
   "metadata": {},
   "outputs": [],
   "source": [
    "train_data.drop(columns=['Unnamed: 0','cc_num','first', 'last', 'street', 'city', 'state', 'zip', 'dob', 'trans_num','trans_date_trans_time'],inplace=True)"
   ]
  },
  {
   "cell_type": "code",
   "execution_count": 13,
   "id": "30ecd72a-7a93-40ac-8801-8cfd423a4648",
   "metadata": {},
   "outputs": [],
   "source": [
    "from sklearn.preprocessing import LabelEncoder\n",
    "encoder = LabelEncoder()\n",
    "train_data[\"merchant\"] = encoder.fit_transform(train_data[\"merchant\"])\n",
    "train_data[\"category\"] = encoder.fit_transform(train_data[\"category\"])\n",
    "train_data[\"gender\"] = encoder.fit_transform(train_data[\"gender\"])\n",
    "train_data[\"job\"] = encoder.fit_transform(train_data[\"job\"])"
   ]
  },
  {
   "cell_type": "code",
   "execution_count": 15,
   "id": "a4b1b422-b315-46e1-bc0c-d7b6817d2f0f",
   "metadata": {},
   "outputs": [
    {
     "data": {
      "text/html": [
       "<div>\n",
       "<style scoped>\n",
       "    .dataframe tbody tr th:only-of-type {\n",
       "        vertical-align: middle;\n",
       "    }\n",
       "\n",
       "    .dataframe tbody tr th {\n",
       "        vertical-align: top;\n",
       "    }\n",
       "\n",
       "    .dataframe thead th {\n",
       "        text-align: right;\n",
       "    }\n",
       "</style>\n",
       "<table border=\"1\" class=\"dataframe\">\n",
       "  <thead>\n",
       "    <tr style=\"text-align: right;\">\n",
       "      <th></th>\n",
       "      <th>merchant</th>\n",
       "      <th>category</th>\n",
       "      <th>amt</th>\n",
       "      <th>gender</th>\n",
       "      <th>lat</th>\n",
       "      <th>long</th>\n",
       "      <th>city_pop</th>\n",
       "      <th>job</th>\n",
       "      <th>unix_time</th>\n",
       "      <th>merch_lat</th>\n",
       "      <th>merch_long</th>\n",
       "      <th>is_fraud</th>\n",
       "    </tr>\n",
       "  </thead>\n",
       "  <tbody>\n",
       "    <tr>\n",
       "      <th>0</th>\n",
       "      <td>514</td>\n",
       "      <td>8</td>\n",
       "      <td>4.97</td>\n",
       "      <td>0</td>\n",
       "      <td>36.0788</td>\n",
       "      <td>-81.1781</td>\n",
       "      <td>3495</td>\n",
       "      <td>370</td>\n",
       "      <td>1325376018</td>\n",
       "      <td>36.011293</td>\n",
       "      <td>-82.048315</td>\n",
       "      <td>0</td>\n",
       "    </tr>\n",
       "    <tr>\n",
       "      <th>1</th>\n",
       "      <td>241</td>\n",
       "      <td>4</td>\n",
       "      <td>107.23</td>\n",
       "      <td>0</td>\n",
       "      <td>48.8878</td>\n",
       "      <td>-118.2105</td>\n",
       "      <td>149</td>\n",
       "      <td>428</td>\n",
       "      <td>1325376044</td>\n",
       "      <td>49.159047</td>\n",
       "      <td>-118.186462</td>\n",
       "      <td>0</td>\n",
       "    </tr>\n",
       "    <tr>\n",
       "      <th>2</th>\n",
       "      <td>390</td>\n",
       "      <td>0</td>\n",
       "      <td>220.11</td>\n",
       "      <td>1</td>\n",
       "      <td>42.1808</td>\n",
       "      <td>-112.2620</td>\n",
       "      <td>4154</td>\n",
       "      <td>307</td>\n",
       "      <td>1325376051</td>\n",
       "      <td>43.150704</td>\n",
       "      <td>-112.154481</td>\n",
       "      <td>0</td>\n",
       "    </tr>\n",
       "    <tr>\n",
       "      <th>3</th>\n",
       "      <td>360</td>\n",
       "      <td>2</td>\n",
       "      <td>45.00</td>\n",
       "      <td>1</td>\n",
       "      <td>46.2306</td>\n",
       "      <td>-112.1138</td>\n",
       "      <td>1939</td>\n",
       "      <td>328</td>\n",
       "      <td>1325376076</td>\n",
       "      <td>47.034331</td>\n",
       "      <td>-112.561071</td>\n",
       "      <td>0</td>\n",
       "    </tr>\n",
       "    <tr>\n",
       "      <th>4</th>\n",
       "      <td>297</td>\n",
       "      <td>9</td>\n",
       "      <td>41.96</td>\n",
       "      <td>1</td>\n",
       "      <td>38.4207</td>\n",
       "      <td>-79.4629</td>\n",
       "      <td>99</td>\n",
       "      <td>116</td>\n",
       "      <td>1325376186</td>\n",
       "      <td>38.674999</td>\n",
       "      <td>-78.632459</td>\n",
       "      <td>0</td>\n",
       "    </tr>\n",
       "    <tr>\n",
       "      <th>...</th>\n",
       "      <td>...</td>\n",
       "      <td>...</td>\n",
       "      <td>...</td>\n",
       "      <td>...</td>\n",
       "      <td>...</td>\n",
       "      <td>...</td>\n",
       "      <td>...</td>\n",
       "      <td>...</td>\n",
       "      <td>...</td>\n",
       "      <td>...</td>\n",
       "      <td>...</td>\n",
       "      <td>...</td>\n",
       "    </tr>\n",
       "    <tr>\n",
       "      <th>1296670</th>\n",
       "      <td>499</td>\n",
       "      <td>0</td>\n",
       "      <td>15.56</td>\n",
       "      <td>1</td>\n",
       "      <td>37.7175</td>\n",
       "      <td>-112.4777</td>\n",
       "      <td>258</td>\n",
       "      <td>215</td>\n",
       "      <td>1371816728</td>\n",
       "      <td>36.841266</td>\n",
       "      <td>-111.690765</td>\n",
       "      <td>0</td>\n",
       "    </tr>\n",
       "    <tr>\n",
       "      <th>1296671</th>\n",
       "      <td>2</td>\n",
       "      <td>1</td>\n",
       "      <td>51.70</td>\n",
       "      <td>1</td>\n",
       "      <td>39.2667</td>\n",
       "      <td>-77.5101</td>\n",
       "      <td>100</td>\n",
       "      <td>360</td>\n",
       "      <td>1371816739</td>\n",
       "      <td>38.906881</td>\n",
       "      <td>-78.246528</td>\n",
       "      <td>0</td>\n",
       "    </tr>\n",
       "    <tr>\n",
       "      <th>1296672</th>\n",
       "      <td>599</td>\n",
       "      <td>1</td>\n",
       "      <td>105.93</td>\n",
       "      <td>1</td>\n",
       "      <td>32.9396</td>\n",
       "      <td>-105.8189</td>\n",
       "      <td>899</td>\n",
       "      <td>308</td>\n",
       "      <td>1371816752</td>\n",
       "      <td>33.619513</td>\n",
       "      <td>-105.130529</td>\n",
       "      <td>0</td>\n",
       "    </tr>\n",
       "    <tr>\n",
       "      <th>1296673</th>\n",
       "      <td>509</td>\n",
       "      <td>1</td>\n",
       "      <td>74.90</td>\n",
       "      <td>1</td>\n",
       "      <td>43.3526</td>\n",
       "      <td>-102.5411</td>\n",
       "      <td>1126</td>\n",
       "      <td>485</td>\n",
       "      <td>1371816816</td>\n",
       "      <td>42.788940</td>\n",
       "      <td>-103.241160</td>\n",
       "      <td>0</td>\n",
       "    </tr>\n",
       "    <tr>\n",
       "      <th>1296674</th>\n",
       "      <td>370</td>\n",
       "      <td>1</td>\n",
       "      <td>4.30</td>\n",
       "      <td>1</td>\n",
       "      <td>45.8433</td>\n",
       "      <td>-113.8748</td>\n",
       "      <td>218</td>\n",
       "      <td>467</td>\n",
       "      <td>1371816817</td>\n",
       "      <td>46.565983</td>\n",
       "      <td>-114.186110</td>\n",
       "      <td>0</td>\n",
       "    </tr>\n",
       "  </tbody>\n",
       "</table>\n",
       "<p>1296675 rows × 12 columns</p>\n",
       "</div>"
      ],
      "text/plain": [
       "         merchant  category     amt  gender      lat      long  city_pop  job  \\\n",
       "0             514         8    4.97       0  36.0788  -81.1781      3495  370   \n",
       "1             241         4  107.23       0  48.8878 -118.2105       149  428   \n",
       "2             390         0  220.11       1  42.1808 -112.2620      4154  307   \n",
       "3             360         2   45.00       1  46.2306 -112.1138      1939  328   \n",
       "4             297         9   41.96       1  38.4207  -79.4629        99  116   \n",
       "...           ...       ...     ...     ...      ...       ...       ...  ...   \n",
       "1296670       499         0   15.56       1  37.7175 -112.4777       258  215   \n",
       "1296671         2         1   51.70       1  39.2667  -77.5101       100  360   \n",
       "1296672       599         1  105.93       1  32.9396 -105.8189       899  308   \n",
       "1296673       509         1   74.90       1  43.3526 -102.5411      1126  485   \n",
       "1296674       370         1    4.30       1  45.8433 -113.8748       218  467   \n",
       "\n",
       "          unix_time  merch_lat  merch_long  is_fraud  \n",
       "0        1325376018  36.011293  -82.048315         0  \n",
       "1        1325376044  49.159047 -118.186462         0  \n",
       "2        1325376051  43.150704 -112.154481         0  \n",
       "3        1325376076  47.034331 -112.561071         0  \n",
       "4        1325376186  38.674999  -78.632459         0  \n",
       "...             ...        ...         ...       ...  \n",
       "1296670  1371816728  36.841266 -111.690765         0  \n",
       "1296671  1371816739  38.906881  -78.246528         0  \n",
       "1296672  1371816752  33.619513 -105.130529         0  \n",
       "1296673  1371816816  42.788940 -103.241160         0  \n",
       "1296674  1371816817  46.565983 -114.186110         0  \n",
       "\n",
       "[1296675 rows x 12 columns]"
      ]
     },
     "execution_count": 15,
     "metadata": {},
     "output_type": "execute_result"
    }
   ],
   "source": [
    "train_data"
   ]
  },
  {
   "cell_type": "markdown",
   "id": "6ac517fc-0aaa-4965-ac6a-7e24ff934c16",
   "metadata": {},
   "source": [
    "TRAIN THE MODEL"
   ]
  },
  {
   "cell_type": "code",
   "execution_count": 17,
   "id": "8fa38a07-88f7-4b09-a6d6-c6c5419804b2",
   "metadata": {},
   "outputs": [],
   "source": [
    "X = train_data.drop(columns=[\"is_fraud\"], inplace = False)\n",
    "Y = train_data[\"is_fraud\"]"
   ]
  },
  {
   "cell_type": "code",
   "execution_count": 19,
   "id": "b5514e5b-4990-4ed1-89df-5b08b2940a88",
   "metadata": {},
   "outputs": [],
   "source": [
    "from sklearn.model_selection import train_test_split\n",
    "X_train, X_test, y_train, y_test = train_test_split(X, Y, test_size = 0.2, random_state = 0)"
   ]
  },
  {
   "cell_type": "code",
   "execution_count": 21,
   "id": "3282ff72-30e7-430a-9ff0-e1962c770494",
   "metadata": {},
   "outputs": [],
   "source": [
    "from sklearn.metrics import accuracy_score, precision_score, recall_score, f1_score, confusion_matrix, classification_report\n",
    "from sklearn.tree import DecisionTreeClassifier"
   ]
  },
  {
   "cell_type": "code",
   "execution_count": 23,
   "id": "e2239f93-7074-4939-8ef5-f246f935f752",
   "metadata": {},
   "outputs": [],
   "source": [
    "model1 = DecisionTreeClassifier()"
   ]
  },
  {
   "cell_type": "code",
   "execution_count": 25,
   "id": "6ab65fa7-7540-464b-99c4-3c46474d45e8",
   "metadata": {},
   "outputs": [
    {
     "name": "stdout",
     "output_type": "stream",
     "text": [
      "\n",
      " Accuracy: 0.9958162222607824\n",
      " Precision: 0.6372732958098811\n",
      " Recall: 0.6686351706036745\n",
      " F1 Score: 0.6525776496958053\n"
     ]
    }
   ],
   "source": [
    "model1.fit(X_train, y_train)\n",
    "y_pred1_1 = model1.predict(X_test)\n",
    "\n",
    "accuracy = accuracy_score(y_test, y_pred1_1)\n",
    "precision = precision_score(y_test, y_pred1_1)\n",
    "recall = recall_score(y_test, y_pred1_1)\n",
    "f1 = f1_score(y_test, y_pred1_1)\n",
    "print(f\"\\n Accuracy: {accuracy}\")\n",
    "print(f\" Precision: {precision}\")\n",
    "print(f\" Recall: {recall}\")\n",
    "print(f\" F1 Score: {f1}\")"
   ]
  },
  {
   "cell_type": "markdown",
   "id": "0567a0b0-c531-453b-a54c-b8a438b93231",
   "metadata": {},
   "source": [
    "UNDERSAMPLING"
   ]
  },
  {
   "cell_type": "code",
   "execution_count": 27,
   "id": "69f8d22d-d854-494c-8183-cd58a38692dc",
   "metadata": {},
   "outputs": [],
   "source": [
    "normal = train_data[train_data['is_fraud']==0]\n",
    "fraud = train_data[train_data['is_fraud']==1]"
   ]
  },
  {
   "cell_type": "code",
   "execution_count": 29,
   "id": "40131c3d-b0aa-4d8a-9fcd-c3614bf1af99",
   "metadata": {},
   "outputs": [],
   "source": [
    "normal_sample = normal.sample(n=fraud.shape[0])"
   ]
  },
  {
   "cell_type": "code",
   "execution_count": 31,
   "id": "9572778a-86c2-4b67-accf-ce4e450344b8",
   "metadata": {},
   "outputs": [],
   "source": [
    "new_data = pd.concat([normal_sample,fraud], ignore_index=True)"
   ]
  },
  {
   "cell_type": "code",
   "execution_count": 33,
   "id": "7d1537e2-09d3-46c0-9d51-89670d3f3d91",
   "metadata": {},
   "outputs": [
    {
     "data": {
      "text/html": [
       "<div>\n",
       "<style scoped>\n",
       "    .dataframe tbody tr th:only-of-type {\n",
       "        vertical-align: middle;\n",
       "    }\n",
       "\n",
       "    .dataframe tbody tr th {\n",
       "        vertical-align: top;\n",
       "    }\n",
       "\n",
       "    .dataframe thead th {\n",
       "        text-align: right;\n",
       "    }\n",
       "</style>\n",
       "<table border=\"1\" class=\"dataframe\">\n",
       "  <thead>\n",
       "    <tr style=\"text-align: right;\">\n",
       "      <th></th>\n",
       "      <th>merchant</th>\n",
       "      <th>category</th>\n",
       "      <th>amt</th>\n",
       "      <th>gender</th>\n",
       "      <th>lat</th>\n",
       "      <th>long</th>\n",
       "      <th>city_pop</th>\n",
       "      <th>job</th>\n",
       "      <th>unix_time</th>\n",
       "      <th>merch_lat</th>\n",
       "      <th>merch_long</th>\n",
       "      <th>is_fraud</th>\n",
       "    </tr>\n",
       "  </thead>\n",
       "  <tbody>\n",
       "    <tr>\n",
       "      <th>0</th>\n",
       "      <td>22</td>\n",
       "      <td>12</td>\n",
       "      <td>5.10</td>\n",
       "      <td>0</td>\n",
       "      <td>38.7897</td>\n",
       "      <td>-93.8702</td>\n",
       "      <td>2368</td>\n",
       "      <td>148</td>\n",
       "      <td>1353540274</td>\n",
       "      <td>38.971160</td>\n",
       "      <td>-93.565599</td>\n",
       "      <td>0</td>\n",
       "    </tr>\n",
       "    <tr>\n",
       "      <th>1</th>\n",
       "      <td>273</td>\n",
       "      <td>2</td>\n",
       "      <td>79.97</td>\n",
       "      <td>1</td>\n",
       "      <td>33.6666</td>\n",
       "      <td>-101.5277</td>\n",
       "      <td>1571</td>\n",
       "      <td>333</td>\n",
       "      <td>1356749674</td>\n",
       "      <td>34.129091</td>\n",
       "      <td>-102.043660</td>\n",
       "      <td>0</td>\n",
       "    </tr>\n",
       "    <tr>\n",
       "      <th>2</th>\n",
       "      <td>396</td>\n",
       "      <td>7</td>\n",
       "      <td>5.25</td>\n",
       "      <td>0</td>\n",
       "      <td>42.1939</td>\n",
       "      <td>-76.7361</td>\n",
       "      <td>520</td>\n",
       "      <td>373</td>\n",
       "      <td>1354319648</td>\n",
       "      <td>43.038544</td>\n",
       "      <td>-77.627172</td>\n",
       "      <td>0</td>\n",
       "    </tr>\n",
       "    <tr>\n",
       "      <th>3</th>\n",
       "      <td>246</td>\n",
       "      <td>12</td>\n",
       "      <td>7.02</td>\n",
       "      <td>1</td>\n",
       "      <td>30.0377</td>\n",
       "      <td>-95.5326</td>\n",
       "      <td>316665</td>\n",
       "      <td>145</td>\n",
       "      <td>1343405394</td>\n",
       "      <td>29.343983</td>\n",
       "      <td>-96.062322</td>\n",
       "      <td>0</td>\n",
       "    </tr>\n",
       "    <tr>\n",
       "      <th>4</th>\n",
       "      <td>506</td>\n",
       "      <td>6</td>\n",
       "      <td>186.68</td>\n",
       "      <td>1</td>\n",
       "      <td>37.7175</td>\n",
       "      <td>-112.4777</td>\n",
       "      <td>258</td>\n",
       "      <td>215</td>\n",
       "      <td>1339536741</td>\n",
       "      <td>38.630363</td>\n",
       "      <td>-111.986377</td>\n",
       "      <td>0</td>\n",
       "    </tr>\n",
       "  </tbody>\n",
       "</table>\n",
       "</div>"
      ],
      "text/plain": [
       "   merchant  category     amt  gender      lat      long  city_pop  job  \\\n",
       "0        22        12    5.10       0  38.7897  -93.8702      2368  148   \n",
       "1       273         2   79.97       1  33.6666 -101.5277      1571  333   \n",
       "2       396         7    5.25       0  42.1939  -76.7361       520  373   \n",
       "3       246        12    7.02       1  30.0377  -95.5326    316665  145   \n",
       "4       506         6  186.68       1  37.7175 -112.4777       258  215   \n",
       "\n",
       "    unix_time  merch_lat  merch_long  is_fraud  \n",
       "0  1353540274  38.971160  -93.565599         0  \n",
       "1  1356749674  34.129091 -102.043660         0  \n",
       "2  1354319648  43.038544  -77.627172         0  \n",
       "3  1343405394  29.343983  -96.062322         0  \n",
       "4  1339536741  38.630363 -111.986377         0  "
      ]
     },
     "execution_count": 33,
     "metadata": {},
     "output_type": "execute_result"
    }
   ],
   "source": [
    "new_data.head()"
   ]
  },
  {
   "cell_type": "code",
   "execution_count": 35,
   "id": "c47f45e0-5aca-4dd5-876d-f7f3869c69cb",
   "metadata": {},
   "outputs": [],
   "source": [
    "new_data['is_fraud'].value_counts()\n",
    "X = new_data.drop('is_fraud', axis = 1)\n",
    "y= new_data['is_fraud']"
   ]
  },
  {
   "cell_type": "code",
   "execution_count": 37,
   "id": "2f9910f5-79dd-4fd5-8310-15ccc4e747f1",
   "metadata": {},
   "outputs": [],
   "source": [
    "X_train, X_test, y_train, y_test = train_test_split(X, y, test_size = 0.2, random_state = 0)"
   ]
  },
  {
   "cell_type": "code",
   "execution_count": 39,
   "id": "9c9564e2-aecf-443a-8030-ec3cdcf75101",
   "metadata": {},
   "outputs": [
    {
     "name": "stdout",
     "output_type": "stream",
     "text": [
      "\n",
      " Accuaracy: 0.9470529470529471\n",
      "\n",
      " Precision: 0.9493754109138725\n",
      "\n",
      " Recall: 0.9462647444298821\n",
      "\n",
      " F1 Score: 0.947817525434854\n"
     ]
    }
   ],
   "source": [
    "model2 = DecisionTreeClassifier()\n",
    "model2.fit(X_train, y_train)\n",
    "y_pred1_2 = model2.predict(X_test)\n",
    "print(f\"\\n Accuaracy: {accuracy_score(y_test, y_pred1_2)}\")\n",
    "print(f\"\\n Precision: {precision_score(y_test, y_pred1_2)}\")\n",
    "print(f\"\\n Recall: {recall_score(y_test, y_pred1_2)}\")\n",
    "print(f\"\\n F1 Score: {f1_score(y_test, y_pred1_2)}\")"
   ]
  },
  {
   "cell_type": "markdown",
   "id": "60a9cfb2-6e6e-4a52-a8c5-83d4806f0403",
   "metadata": {},
   "source": [
    "OVERSAMPLING"
   ]
  },
  {
   "cell_type": "code",
   "execution_count": 41,
   "id": "8d026b51-ea5f-40ba-b195-8ee41b551607",
   "metadata": {},
   "outputs": [],
   "source": [
    "X = train_data.drop('is_fraud', axis = 1)\n",
    "y= train_data['is_fraud']"
   ]
  },
  {
   "cell_type": "code",
   "execution_count": 43,
   "id": "6f7b3822-26af-456a-ae5b-209c391cfbaa",
   "metadata": {},
   "outputs": [],
   "source": [
    "from imblearn.over_sampling import SMOTE"
   ]
  },
  {
   "cell_type": "code",
   "execution_count": 45,
   "id": "9784e892-cc11-4e66-ba2f-6577771b8039",
   "metadata": {},
   "outputs": [
    {
     "data": {
      "text/plain": [
       "is_fraud\n",
       "0    1289169\n",
       "1    1289169\n",
       "Name: count, dtype: int64"
      ]
     },
     "execution_count": 45,
     "metadata": {},
     "output_type": "execute_result"
    }
   ],
   "source": [
    "X_ouver, y_ouver = SMOTE().fit_resample(X,y)\n",
    "y_ouver.value_counts()"
   ]
  },
  {
   "cell_type": "code",
   "execution_count": 47,
   "id": "3abd61a5-4086-42f4-9e14-1a00459d8ad4",
   "metadata": {},
   "outputs": [],
   "source": [
    "X_train, X_test, y_train, y_test = train_test_split(X_ouver, y_ouver, test_size = 0.2, random_state = 0)"
   ]
  },
  {
   "cell_type": "code",
   "execution_count": 49,
   "id": "9bd1539e-f727-45fd-80ef-4410bb64753c",
   "metadata": {},
   "outputs": [
    {
     "name": "stdout",
     "output_type": "stream",
     "text": [
      "\n",
      " Accuaracy: 0.9820543450437103\n",
      "\n",
      " Precision: 0.9772122031918287\n",
      "\n",
      " Recall: 0.9870973251404195\n",
      "\n",
      " F1 Score: 0.9821298913967033\n"
     ]
    }
   ],
   "source": [
    "model3 = DecisionTreeClassifier()\n",
    "model3.fit(X_train, y_train)\n",
    "y_pred1_3 = model3.predict(X_test)\n",
    "print(f\"\\n Accuaracy: {accuracy_score(y_test, y_pred1_3)}\")\n",
    "print(f\"\\n Precision: {precision_score(y_test, y_pred1_3)}\")\n",
    "print(f\"\\n Recall: {recall_score(y_test, y_pred1_3)}\")\n",
    "print(f\"\\n F1 Score: {f1_score(y_test, y_pred1_3)}\")"
   ]
  },
  {
   "cell_type": "markdown",
   "id": "8012ef93-8692-4240-b591-1f33efa46aa3",
   "metadata": {},
   "source": [
    "TESTING THE MODEL"
   ]
  },
  {
   "cell_type": "code",
   "execution_count": 51,
   "id": "afe4df97-5b49-4b0f-8f62-5797dba7f629",
   "metadata": {},
   "outputs": [],
   "source": [
    "test_data = pd.read_csv(r'C:\\Users\\Dell\\Desktop\\CodSoft\\Task 2\\fraudtest.csv')"
   ]
  },
  {
   "cell_type": "code",
   "execution_count": 53,
   "id": "3103be65-a71b-40a3-b886-23d6fff50f3d",
   "metadata": {},
   "outputs": [],
   "source": [
    "test_data.drop(columns=['Unnamed: 0','cc_num','first', 'last', 'street', 'city', 'state', 'zip', 'dob', 'trans_num','trans_date_trans_time'],inplace=True)\n",
    "encoder = LabelEncoder()\n",
    "test_data[\"merchant\"] = encoder.fit_transform(test_data[\"merchant\"])\n",
    "test_data[\"category\"] = encoder.fit_transform(test_data[\"category\"])\n",
    "test_data[\"gender\"] = encoder.fit_transform(test_data[\"gender\"])\n",
    "test_data[\"job\"] = encoder.fit_transform(test_data[\"job\"])"
   ]
  },
  {
   "cell_type": "code",
   "execution_count": 55,
   "id": "21561cbc-4584-4297-a33e-942d43f1d956",
   "metadata": {},
   "outputs": [
    {
     "data": {
      "text/html": [
       "<div>\n",
       "<style scoped>\n",
       "    .dataframe tbody tr th:only-of-type {\n",
       "        vertical-align: middle;\n",
       "    }\n",
       "\n",
       "    .dataframe tbody tr th {\n",
       "        vertical-align: top;\n",
       "    }\n",
       "\n",
       "    .dataframe thead th {\n",
       "        text-align: right;\n",
       "    }\n",
       "</style>\n",
       "<table border=\"1\" class=\"dataframe\">\n",
       "  <thead>\n",
       "    <tr style=\"text-align: right;\">\n",
       "      <th></th>\n",
       "      <th>merchant</th>\n",
       "      <th>category</th>\n",
       "      <th>amt</th>\n",
       "      <th>gender</th>\n",
       "      <th>lat</th>\n",
       "      <th>long</th>\n",
       "      <th>city_pop</th>\n",
       "      <th>job</th>\n",
       "      <th>unix_time</th>\n",
       "      <th>merch_lat</th>\n",
       "      <th>merch_long</th>\n",
       "      <th>is_fraud</th>\n",
       "    </tr>\n",
       "  </thead>\n",
       "  <tbody>\n",
       "    <tr>\n",
       "      <th>0</th>\n",
       "      <td>319</td>\n",
       "      <td>10</td>\n",
       "      <td>2.86</td>\n",
       "      <td>1</td>\n",
       "      <td>33.9659</td>\n",
       "      <td>-80.9355</td>\n",
       "      <td>333497</td>\n",
       "      <td>275</td>\n",
       "      <td>1371816865</td>\n",
       "      <td>33.986391</td>\n",
       "      <td>-81.200714</td>\n",
       "      <td>0</td>\n",
       "    </tr>\n",
       "    <tr>\n",
       "      <th>1</th>\n",
       "      <td>591</td>\n",
       "      <td>10</td>\n",
       "      <td>29.84</td>\n",
       "      <td>0</td>\n",
       "      <td>40.3207</td>\n",
       "      <td>-110.4360</td>\n",
       "      <td>302</td>\n",
       "      <td>392</td>\n",
       "      <td>1371816873</td>\n",
       "      <td>39.450498</td>\n",
       "      <td>-109.960431</td>\n",
       "      <td>0</td>\n",
       "    </tr>\n",
       "    <tr>\n",
       "      <th>2</th>\n",
       "      <td>611</td>\n",
       "      <td>5</td>\n",
       "      <td>41.28</td>\n",
       "      <td>0</td>\n",
       "      <td>40.6729</td>\n",
       "      <td>-73.5365</td>\n",
       "      <td>34496</td>\n",
       "      <td>259</td>\n",
       "      <td>1371816893</td>\n",
       "      <td>40.495810</td>\n",
       "      <td>-74.196111</td>\n",
       "      <td>0</td>\n",
       "    </tr>\n",
       "    <tr>\n",
       "      <th>3</th>\n",
       "      <td>222</td>\n",
       "      <td>9</td>\n",
       "      <td>60.05</td>\n",
       "      <td>1</td>\n",
       "      <td>28.5697</td>\n",
       "      <td>-80.8191</td>\n",
       "      <td>54767</td>\n",
       "      <td>407</td>\n",
       "      <td>1371816915</td>\n",
       "      <td>28.812398</td>\n",
       "      <td>-80.883061</td>\n",
       "      <td>0</td>\n",
       "    </tr>\n",
       "    <tr>\n",
       "      <th>4</th>\n",
       "      <td>292</td>\n",
       "      <td>13</td>\n",
       "      <td>3.19</td>\n",
       "      <td>1</td>\n",
       "      <td>44.2529</td>\n",
       "      <td>-85.0170</td>\n",
       "      <td>1126</td>\n",
       "      <td>196</td>\n",
       "      <td>1371816917</td>\n",
       "      <td>44.959148</td>\n",
       "      <td>-85.884734</td>\n",
       "      <td>0</td>\n",
       "    </tr>\n",
       "    <tr>\n",
       "      <th>...</th>\n",
       "      <td>...</td>\n",
       "      <td>...</td>\n",
       "      <td>...</td>\n",
       "      <td>...</td>\n",
       "      <td>...</td>\n",
       "      <td>...</td>\n",
       "      <td>...</td>\n",
       "      <td>...</td>\n",
       "      <td>...</td>\n",
       "      <td>...</td>\n",
       "      <td>...</td>\n",
       "      <td>...</td>\n",
       "    </tr>\n",
       "    <tr>\n",
       "      <th>555714</th>\n",
       "      <td>507</td>\n",
       "      <td>5</td>\n",
       "      <td>43.77</td>\n",
       "      <td>1</td>\n",
       "      <td>40.4931</td>\n",
       "      <td>-91.8912</td>\n",
       "      <td>519</td>\n",
       "      <td>460</td>\n",
       "      <td>1388534347</td>\n",
       "      <td>39.946837</td>\n",
       "      <td>-91.333331</td>\n",
       "      <td>0</td>\n",
       "    </tr>\n",
       "    <tr>\n",
       "      <th>555715</th>\n",
       "      <td>264</td>\n",
       "      <td>7</td>\n",
       "      <td>111.84</td>\n",
       "      <td>1</td>\n",
       "      <td>29.0393</td>\n",
       "      <td>-95.4401</td>\n",
       "      <td>28739</td>\n",
       "      <td>198</td>\n",
       "      <td>1388534349</td>\n",
       "      <td>29.661049</td>\n",
       "      <td>-96.186633</td>\n",
       "      <td>0</td>\n",
       "    </tr>\n",
       "    <tr>\n",
       "      <th>555716</th>\n",
       "      <td>496</td>\n",
       "      <td>7</td>\n",
       "      <td>86.88</td>\n",
       "      <td>0</td>\n",
       "      <td>46.1966</td>\n",
       "      <td>-118.9017</td>\n",
       "      <td>3684</td>\n",
       "      <td>294</td>\n",
       "      <td>1388534355</td>\n",
       "      <td>46.658340</td>\n",
       "      <td>-119.715054</td>\n",
       "      <td>0</td>\n",
       "    </tr>\n",
       "    <tr>\n",
       "      <th>555717</th>\n",
       "      <td>75</td>\n",
       "      <td>13</td>\n",
       "      <td>7.99</td>\n",
       "      <td>1</td>\n",
       "      <td>44.6255</td>\n",
       "      <td>-116.4493</td>\n",
       "      <td>129</td>\n",
       "      <td>58</td>\n",
       "      <td>1388534364</td>\n",
       "      <td>44.470525</td>\n",
       "      <td>-117.080888</td>\n",
       "      <td>0</td>\n",
       "    </tr>\n",
       "    <tr>\n",
       "      <th>555718</th>\n",
       "      <td>125</td>\n",
       "      <td>0</td>\n",
       "      <td>38.13</td>\n",
       "      <td>1</td>\n",
       "      <td>35.6665</td>\n",
       "      <td>-97.4798</td>\n",
       "      <td>116001</td>\n",
       "      <td>276</td>\n",
       "      <td>1388534374</td>\n",
       "      <td>36.210097</td>\n",
       "      <td>-97.036372</td>\n",
       "      <td>0</td>\n",
       "    </tr>\n",
       "  </tbody>\n",
       "</table>\n",
       "<p>555719 rows × 12 columns</p>\n",
       "</div>"
      ],
      "text/plain": [
       "        merchant  category     amt  gender      lat      long  city_pop  job  \\\n",
       "0            319        10    2.86       1  33.9659  -80.9355    333497  275   \n",
       "1            591        10   29.84       0  40.3207 -110.4360       302  392   \n",
       "2            611         5   41.28       0  40.6729  -73.5365     34496  259   \n",
       "3            222         9   60.05       1  28.5697  -80.8191     54767  407   \n",
       "4            292        13    3.19       1  44.2529  -85.0170      1126  196   \n",
       "...          ...       ...     ...     ...      ...       ...       ...  ...   \n",
       "555714       507         5   43.77       1  40.4931  -91.8912       519  460   \n",
       "555715       264         7  111.84       1  29.0393  -95.4401     28739  198   \n",
       "555716       496         7   86.88       0  46.1966 -118.9017      3684  294   \n",
       "555717        75        13    7.99       1  44.6255 -116.4493       129   58   \n",
       "555718       125         0   38.13       1  35.6665  -97.4798    116001  276   \n",
       "\n",
       "         unix_time  merch_lat  merch_long  is_fraud  \n",
       "0       1371816865  33.986391  -81.200714         0  \n",
       "1       1371816873  39.450498 -109.960431         0  \n",
       "2       1371816893  40.495810  -74.196111         0  \n",
       "3       1371816915  28.812398  -80.883061         0  \n",
       "4       1371816917  44.959148  -85.884734         0  \n",
       "...            ...        ...         ...       ...  \n",
       "555714  1388534347  39.946837  -91.333331         0  \n",
       "555715  1388534349  29.661049  -96.186633         0  \n",
       "555716  1388534355  46.658340 -119.715054         0  \n",
       "555717  1388534364  44.470525 -117.080888         0  \n",
       "555718  1388534374  36.210097  -97.036372         0  \n",
       "\n",
       "[555719 rows x 12 columns]"
      ]
     },
     "execution_count": 55,
     "metadata": {},
     "output_type": "execute_result"
    }
   ],
   "source": [
    "test_data"
   ]
  },
  {
   "cell_type": "code",
   "execution_count": 57,
   "id": "3e47336e-7ad9-4069-905a-d56ec074e24a",
   "metadata": {},
   "outputs": [],
   "source": [
    "X_test = test_data.drop(columns=[\"is_fraud\"], inplace = False)\n",
    "Y_test = test_data[\"is_fraud\"]"
   ]
  },
  {
   "cell_type": "code",
   "execution_count": 59,
   "id": "5671367b-5e01-4e49-9931-db566a875301",
   "metadata": {},
   "outputs": [
    {
     "name": "stdout",
     "output_type": "stream",
     "text": [
      "\n",
      " Accuaracy: 0.9936262751498509\n",
      "\n",
      " Precision: 0.3190883190883191\n",
      "\n",
      " Recall: 0.5743589743589743\n",
      "\n",
      " F1 Score: 0.41025641025641024\n"
     ]
    }
   ],
   "source": [
    "y_pred1 = model1.predict(X_test)\n",
    "print(f\"\\n Accuaracy: {accuracy_score(Y_test, y_pred1)}\")\n",
    "print(f\"\\n Precision: {precision_score(Y_test, y_pred1)}\")\n",
    "print(f\"\\n Recall: {recall_score(Y_test, y_pred1)}\")\n",
    "print(f\"\\n F1 Score: {f1_score(Y_test, y_pred1)}\")"
   ]
  },
  {
   "cell_type": "code",
   "execution_count": 61,
   "id": "c308b01f-bac7-491b-bb52-9fb45911606b",
   "metadata": {},
   "outputs": [
    {
     "name": "stdout",
     "output_type": "stream",
     "text": [
      "\n",
      " Accuaracy: 0.9443279787086639\n",
      "\n",
      " Precision: 0.060693906197552716\n",
      "\n",
      " Recall: 0.9272727272727272\n",
      "\n",
      " F1 Score: 0.11393057624011914\n"
     ]
    }
   ],
   "source": [
    "y_pred2 = model2.predict(X_test)\n",
    "print(f\"\\n Accuaracy: {accuracy_score(Y_test, y_pred2)}\")\n",
    "print(f\"\\n Precision: {precision_score(Y_test, y_pred2)}\")\n",
    "print(f\"\\n Recall: {recall_score(Y_test, y_pred2)}\")\n",
    "print(f\"\\n F1 Score: {f1_score(Y_test, y_pred2)}\")"
   ]
  },
  {
   "cell_type": "code",
   "execution_count": 63,
   "id": "7194b8ee-c6b0-4ca4-a35c-9b4ec42be327",
   "metadata": {},
   "outputs": [
    {
     "name": "stdout",
     "output_type": "stream",
     "text": [
      "\n",
      " Accuaracy: 0.9679442308072965\n",
      "\n",
      " Precision: 0.046745733294764245\n",
      "\n",
      " Recall: 0.37668997668997667\n",
      "\n",
      " F1 Score: 0.08317035512094699\n"
     ]
    }
   ],
   "source": [
    "y_pred3 = model3.predict(X_test)\n",
    "print(f\"\\n Accuaracy: {accuracy_score(Y_test, y_pred3)}\")\n",
    "print(f\"\\n Precision: {precision_score(Y_test, y_pred3)}\")\n",
    "print(f\"\\n Recall: {recall_score(Y_test, y_pred3)}\")\n",
    "print(f\"\\n F1 Score: {f1_score(Y_test, y_pred3)}\")"
   ]
  },
  {
   "cell_type": "markdown",
   "id": "d0ca0e9f-2c62-4fc3-9492-9cd117f06a22",
   "metadata": {},
   "source": [
    "FINAL MODEL"
   ]
  },
  {
   "cell_type": "code",
   "execution_count": 65,
   "id": "2ed7f610-495a-4b1a-b5f0-2e6c9e930146",
   "metadata": {},
   "outputs": [],
   "source": [
    "import numpy as np\n",
    "from scipy import stats\n",
    "combined_predictions = np.vstack((y_pred1, y_pred2, y_pred3)).T\n",
    "final_predictions = stats.mode(combined_predictions, axis=1)[0].flatten()"
   ]
  },
  {
   "cell_type": "code",
   "execution_count": 66,
   "id": "551ed224-fc5d-4a81-8c97-ab7cc29bbe6f",
   "metadata": {},
   "outputs": [
    {
     "name": "stdout",
     "output_type": "stream",
     "text": [
      "\n",
      " Accuaracy: 0.9917080394947806\n",
      "\n",
      " Precision: 0.25886038770315256\n",
      "\n",
      " Recall: 0.6163170163170163\n",
      "\n",
      " F1 Score: 0.36458907887479314\n"
     ]
    }
   ],
   "source": [
    "print(f\"\\n Accuaracy: {accuracy_score(Y_test, final_predictions)}\")\n",
    "print(f\"\\n Precision: {precision_score(Y_test, final_predictions)}\")\n",
    "print(f\"\\n Recall: {recall_score(Y_test, final_predictions)}\")\n",
    "print(f\"\\n F1 Score: {f1_score(Y_test, final_predictions)}\")"
   ]
  }
 ],
 "metadata": {
  "kernelspec": {
   "display_name": "Python [conda env:base] *",
   "language": "python",
   "name": "conda-base-py"
  },
  "language_info": {
   "codemirror_mode": {
    "name": "ipython",
    "version": 3
   },
   "file_extension": ".py",
   "mimetype": "text/x-python",
   "name": "python",
   "nbconvert_exporter": "python",
   "pygments_lexer": "ipython3",
   "version": "3.12.7"
  }
 },
 "nbformat": 4,
 "nbformat_minor": 5
}
